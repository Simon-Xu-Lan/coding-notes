{
 "cells": [
  {
   "cell_type": "code",
   "execution_count": 6,
   "metadata": {},
   "outputs": [],
   "source": [
    "# Define the Surfer Class\n",
    "class Surfer():\n",
    "    # Keep track of surfer count as they were created\n",
    "    # it is a property of Surfer class, not surfer object\n",
    "    surferCount = 0\n",
    "    \n",
    "    # Constructor - a required function\n",
    "    # A required function __init__ to initialize the surfer contructor\n",
    "    # Set wipeouts default value as 0\n",
    "    def __init__(self, name, hometown, rank, wipeouts=0):\n",
    "        self.name = name\n",
    "        self.hometown = hometown\n",
    "        self.rank = rank\n",
    "        self.wipeouts = wipeouts\n",
    "        Surfer.surferCount += 1\n",
    "\n",
    "    # Class methods\n",
    "    def surfer_count(self):\n",
    "        print(\"Total surfers shredding waves %d\" % Surfer.surferCount)\n",
    "        \n",
    "    def speak(self):\n",
    "        print(\"Hang loose bruh\")\n",
    "        \n",
    "    def biography(self):\n",
    "         print(f\"My name is {self.name}, I am from {self.hometown} and rank #{self.rank}, I've wiped out {self.wipeouts}\")\n",
    "        \n",
    "    def cheer(self):\n",
    "        if self.wipeouts == 0:\n",
    "            print('I totally rock man, no wipeouts!')\n",
    "        else:\n",
    "            print('Bummer bruh, keep on keeping on!')"
   ]
  },
  {
   "cell_type": "code",
   "execution_count": 7,
   "metadata": {},
   "outputs": [
    {
     "name": "stdout",
     "output_type": "stream",
     "text": [
      "Kelly Slater\n",
      "Cocoa Beach\n",
      "1\n",
      "0\n",
      "Hang loose bruh\n",
      "My name is Kelly Slater, I am from Cocoa Beach and rank #1, I've wiped out 0\n",
      "I totally rock man, no wipeouts!\n",
      "Total surfers shredding waves 1\n"
     ]
    }
   ],
   "source": [
    "# Create Surfers\n",
    "# --------------------------------------------------------------------------------\n",
    "\n",
    "surfer = Surfer('Kelly Slater', 'Cocoa Beach', 1)\n",
    "print(surfer.name)\n",
    "print(surfer.hometown)\n",
    "print(surfer.rank)\n",
    "print(surfer.wipeouts)\n",
    "surfer.speak()\n",
    "surfer.biography()\n",
    "surfer.cheer()\n",
    "surfer.surfer_count()"
   ]
  },
  {
   "cell_type": "code",
   "execution_count": null,
   "metadata": {},
   "outputs": [],
   "source": []
  }
 ],
 "metadata": {
  "kernelspec": {
   "display_name": "Python 3",
   "language": "python",
   "name": "python3"
  },
  "language_info": {
   "codemirror_mode": {
    "name": "ipython",
    "version": 3
   },
   "file_extension": ".py",
   "mimetype": "text/x-python",
   "name": "python",
   "nbconvert_exporter": "python",
   "pygments_lexer": "ipython3",
   "version": "3.8.3"
  },
  "varInspector": {
   "cols": {
    "lenName": 16,
    "lenType": 16,
    "lenVar": 40
   },
   "kernels_config": {
    "python": {
     "delete_cmd_postfix": "",
     "delete_cmd_prefix": "del ",
     "library": "var_list.py",
     "varRefreshCmd": "print(var_dic_list())"
    },
    "r": {
     "delete_cmd_postfix": ") ",
     "delete_cmd_prefix": "rm(",
     "library": "var_list.r",
     "varRefreshCmd": "cat(var_dic_list()) "
    }
   },
   "types_to_exclude": [
    "module",
    "function",
    "builtin_function_or_method",
    "instance",
    "_Feature"
   ],
   "window_display": false
  }
 },
 "nbformat": 4,
 "nbformat_minor": 2
}
