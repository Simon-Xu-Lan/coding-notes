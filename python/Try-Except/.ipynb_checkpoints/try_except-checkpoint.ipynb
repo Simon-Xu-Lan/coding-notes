{
 "cells": [
  {
   "cell_type": "markdown",
   "metadata": {},
   "source": [
    "### Why use Try-Except/Try-Except-else Clause?\n",
    "- With the help of try-except and try-except-else, you can avoid many unknown problems that could arise from your code. \n",
    "https://www.techbeamers.com/use-try-except-python/\n"
   ]
  },
  {
   "cell_type": "markdown",
   "metadata": {},
   "source": [
    "### Why use Exceptions? \n",
    "- They not only help solve popular problems like race conditions but are also very useful in controlling errors in areas like loops, file handling, database communication, network access and so on"
   ]
  },
  {
   "cell_type": "markdown",
   "metadata": {},
   "source": [
    "### When to use the else clause\n",
    "####  Use an else clause right after the try-except block. \n",
    "#### The else clause will get hit only if no exception is thrown. \n",
    "#### The else statement should always precede the except blocks.\n",
    "- In else blocks, you can add code which you wish to run when no errors occurred.\n",
    "\n",
    "- See the below example. In this sample, you can see a while loop running infinitely. The code is asking for user input and then parsing it using the built-in [int()] function. If the user enters a zero value, then the except block will get hit. Otherwise, the code will flow through the else block."
   ]
  },
  {
   "cell_type": "code",
   "execution_count": null,
   "metadata": {},
   "outputs": [],
   "source": [
    "while true:\n",
    "    # Enter integer value from the console.\n",
    "    x = int(input())\n",
    "\n",
    "    # Divide 1 by x to test error cases\n",
    "    try:\n",
    "        result = 1 / x\n",
    "    except:\n",
    "        print(\"Error case\")\n",
    "        exit(0)\n",
    "    else:\n",
    "        print(\"Pass case\")\n",
    "        break\n"
   ]
  },
  {
   "cell_type": "markdown",
   "metadata": {},
   "source": [
    "### Make use of [finally clause]\n",
    "- If you have a code which you want to run in all situations, then write it inside the [finally block]. \n",
    "- Python will always run the instructions coded in the [finally block]. \n",
    "- It is the most common way of doing clean up tasks. You can also make sure the clean up gets through.\n",
    "- An error is caught by the try clause. After the code in the except block gets executed, the instructions in the [finally clause] would run.\n",
    "- Please note that a [finally block] will ALWAYS run, even if you’ve returned ahead of it."
   ]
  },
  {
   "cell_type": "code",
   "execution_count": null,
   "metadata": {},
   "outputs": [],
   "source": [
    "try:\n",
    "    # Intentionally raise an error.\n",
    "    x = 1 / 0\n",
    "except:\n",
    "    # Except clause:\n",
    "    print(\"Error occurred\")\n",
    "finally:\n",
    "    # Finally clause:\n",
    "    print(\"The [finally clause] is hit\")"
   ]
  },
  {
   "cell_type": "markdown",
   "metadata": {},
   "source": [
    "### output:\n",
    "Error occurred\n",
    "\n",
    "The [finally clause] is hit"
   ]
  },
  {
   "cell_type": "code",
   "execution_count": null,
   "metadata": {},
   "outputs": [],
   "source": []
  }
 ],
 "metadata": {
  "kernelspec": {
   "display_name": "Python 3",
   "language": "python",
   "name": "python3"
  },
  "language_info": {
   "codemirror_mode": {
    "name": "ipython",
    "version": 3
   },
   "file_extension": ".py",
   "mimetype": "text/x-python",
   "name": "python",
   "nbconvert_exporter": "python",
   "pygments_lexer": "ipython3",
   "version": "3.8.3"
  }
 },
 "nbformat": 4,
 "nbformat_minor": 4
}
