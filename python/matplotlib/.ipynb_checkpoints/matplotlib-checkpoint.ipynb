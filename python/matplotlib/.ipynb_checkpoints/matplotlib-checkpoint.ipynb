{
 "cells": [
  {
   "cell_type": "code",
   "execution_count": null,
   "metadata": {},
   "outputs": [],
   "source": []
  },
  {
   "cell_type": "code",
   "execution_count": 80,
   "metadata": {},
   "outputs": [],
   "source": [
    "# Import Numpy for calculations and matplotlib for charting\n",
    "import numpy as np\n",
    "import matplotlib.pyplot as plt"
   ]
  },
  {
   "cell_type": "code",
   "execution_count": 81,
   "metadata": {},
   "outputs": [],
   "source": [
    "# Creates a numpy array from 0 to 5 with each step being 0.1 higher than the last\n",
    "x_axis = np.arange(0, 5, 0.1)\n",
    "\n",
    "# Creates an exponential series of values which we can then chart\n",
    "e_x = [np.exp(x) for x in x_axis]"
   ]
  },
  {
   "cell_type": "code",
   "execution_count": 82,
   "metadata": {},
   "outputs": [],
   "source": [
    "# Create a graph based upon the list and array we have created\n",
    "plt.plot(x_axis, e_x)\n",
    "# Show the graph that we have created\n",
    "plt.show()"
   ]
  },
  {
   "cell_type": "code",
   "execution_count": 83,
   "metadata": {},
   "outputs": [],
   "source": [
    "# Give our graph axis labels\n",
    "plt.xlabel(\"Time With MatPlotLib\")\n",
    "plt.ylabel(\"How Cool MatPlotLib Seems\")\n",
    "\n",
    "# Have to plot our chart once again as it doesn't stick after being shown\n",
    "plt.plot(x_axis, e_x)\n",
    "plt.show()"
   ]
  },
  {
   "cell_type": "code",
   "execution_count": 84,
   "metadata": {},
   "outputs": [],
   "source": [
    "# Two line chart in one plot\n",
    "temp_F_per_month = [39, 42, 51, 62, 72, 82, 86, 84, 77, 65, 55, 44]\n",
    "temp_C_per_month = [(temp -32) * 0.56 for temp in temp_F_per_month ]\n",
    "months = [value for value in range(1, len(temp_F_per_month) + 1)]\n",
    "\n",
    "f_handle, = plt.plot(months, temp_F_per_month, label=\"Fahrenneit\")\n",
    "c_handle, =plt.plot(months, temp_C_per_month, label=\"Celsius\")\n",
    "plt.legend(loc=\"upper right\")\n",
    "\n",
    "plt.xlabel(\"Months\")\n",
    "plt.ylabel(\"Temperature\")\n",
    "# ❓❓❓ why plt.show(), the above alrady showed figure\n",
    "plt.show()"
   ]
  },
  {
   "cell_type": "code",
   "execution_count": 85,
   "metadata": {},
   "outputs": [
    {
     "data": {
      "text/plain": [
       "<matplotlib.collections.LineCollection at 0x7fb4c83cc5b0>"
      ]
     },
     "execution_count": 85,
     "metadata": {},
     "output_type": "execute_result"
    }
   ],
   "source": [
    "# Draw a horizontal line with 0.25 transparency\n",
    "# alpha is the translucent factor\n",
    "plt.hlines(0, 0, 10, alpha=0.25)"
   ]
  },
  {
   "cell_type": "code",
   "execution_count": 86,
   "metadata": {},
   "outputs": [],
   "source": [
    "# Set x axis and variables\n",
    "x_axis = np.arange(0, 10, 0.1)\n",
    "sin = np.sin(x_axis)\n",
    "cos = np.cos(x_axis)\n",
    "\n",
    "# Assign plots to tuples that stores result of plot ❓❓❓ \n",
    "# ❓❓❓ why sine_handle, = \n",
    "# ❓❓❓ sine_handle and cosine_handle are never used? What is the point to assign them?\n",
    "\n",
    "# Each point on the sine chart is marked by a blue circle\n",
    "sine_handle, = plt.plot(\n",
    "    x_axis, sin, \n",
    "    marker ='o', \n",
    "    color='blue', \n",
    "    label=\"Sine\",\n",
    "    linewidth=0    # Use dots or other markers for your plots\n",
    ")  \n",
    "# Each point on the cosine chart is marked by a red triangle\n",
    "cosine_handle, = plt.plot(x_axis, cos, marker='^', color='red', label=\"Cosine\")\n",
    "# ❓❓❓ why label now show here and show after plt.legend?\n",
    "\n",
    "# Adds a legend and sets its location to the lower right\n",
    "# Set the label to the lower right positioin\n",
    "plt.legend(loc=\"lower right\")\n",
    "\n",
    "# Add labels to the x and y axes\n",
    "plt.title(\"Juxtaposed Sine and Cosine Curves\")\n",
    "plt.xlabel(\"Input (Sampled Real Numbers from 0 to 10)\")\n",
    "plt.ylabel(\"Value of Sine (blue) and Cosine (red)\")\n",
    "\n",
    "# Set your x and y limits\n",
    "plt.xlim(0, 10)\n",
    "plt.ylim(-1, 1)\n",
    "\n",
    "# Set a grid on the plot\n",
    "plt.grid()"
   ]
  },
  {
   "cell_type": "code",
   "execution_count": 87,
   "metadata": {},
   "outputs": [],
   "source": [
    "# Saves an image of our chart so that we can view it in a folder\n",
    "plt.savefig(\"lineConfig.png\")\n",
    "plt.show()"
   ]
  },
  {
   "cell_type": "markdown",
   "metadata": {},
   "source": [
    "## Bar Chart"
   ]
  },
  {
   "cell_type": "code",
   "execution_count": 88,
   "metadata": {},
   "outputs": [
    {
     "data": {
      "text/plain": [
       "<BarContainer object of 5 artists>"
      ]
     },
     "execution_count": 88,
     "metadata": {},
     "output_type": "execute_result"
    }
   ],
   "source": [
    "# Create an array that contains the number of users each language has\n",
    "users = [13000, 26000, 52000, 30000, 9000]\n",
    "# x_axis = np.arange(len(users))\n",
    "x_axis = [\"Java\", \"C++\", \"Python\", \"Ruby\", \"Clojure\"]\n",
    "\n",
    "# Tell matplotlib that we will be making a bar chart\n",
    "# Users is our y axis and x_axis is, of course, our x axis\n",
    "# We apply align=\"edge\" to ensure our bars line up with our tick marks\n",
    "# align=\"center\"\n",
    "plt.bar(x_axis, users, color='r', alpha=0.5, align=\"center\")"
   ]
  },
  {
   "cell_type": "code",
   "execution_count": 89,
   "metadata": {},
   "outputs": [
    {
     "data": {
      "text/plain": [
       "<BarContainer object of 5 artists>"
      ]
     },
     "execution_count": 89,
     "metadata": {},
     "output_type": "execute_result"
    }
   ],
   "source": [
    "# align=\"edge\"\n",
    "# 'center': Center the base on the *x* positions.\n",
    "# 'edge': Align the left edges of the bars with the *x* positions.\n",
    "plt.bar(x_axis, users, color='r', alpha=0.5, align=\"edge\")"
   ]
  },
  {
   "cell_type": "code",
   "execution_count": 90,
   "metadata": {},
   "outputs": [
    {
     "data": {
      "text/plain": [
       "([<matplotlib.axis.XTick at 0x7fb4b87c0bb0>,\n",
       "  <matplotlib.axis.XTick at 0x7fb4b87c0700>,\n",
       "  <matplotlib.axis.XTick at 0x7fb4b87b5250>,\n",
       "  <matplotlib.axis.XTick at 0x7fb4b881aac0>,\n",
       "  <matplotlib.axis.XTick at 0x7fb4b881af40>],\n",
       " [Text(0.0, 0, 'Java'),\n",
       "  Text(1.0, 0, 'C++'),\n",
       "  Text(2.0, 0, 'Python'),\n",
       "  Text(3.0, 0, 'Ruby'),\n",
       "  Text(4.0, 0, 'Clojure')])"
      ]
     },
     "execution_count": 90,
     "metadata": {},
     "output_type": "execute_result"
    }
   ],
   "source": [
    "# Tell matplotlib where we would like to place each of our x axis headers\n",
    "# tick locations must be a list type\n",
    "tick_locations = [value for value in x_axis]\n",
    "plt.xticks(tick_locations, [\"Java\", \"C++\", \"Python\", \"Ruby\", \"Clojure\"])"
   ]
  },
  {
   "cell_type": "code",
   "execution_count": null,
   "metadata": {},
   "outputs": [],
   "source": []
  }
 ],
 "metadata": {
  "kernelspec": {
   "display_name": "Python 3",
   "language": "python",
   "name": "python3"
  },
  "language_info": {
   "codemirror_mode": {
    "name": "ipython",
    "version": 3
   },
   "file_extension": ".py",
   "mimetype": "text/x-python",
   "name": "python",
   "nbconvert_exporter": "python",
   "pygments_lexer": "ipython3",
   "version": "3.8.3"
  }
 },
 "nbformat": 4,
 "nbformat_minor": 4
}
