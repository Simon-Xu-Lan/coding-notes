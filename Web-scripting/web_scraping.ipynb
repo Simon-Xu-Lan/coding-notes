{
 "cells": [
  {
   "cell_type": "code",
   "execution_count": 5,
   "metadata": {},
   "outputs": [],
   "source": [
    "from splinter import Browser\n",
    "from bs4 import BeautifulSoup\n",
    "from webdriver_manager.chrome import ChromeDriverManager"
   ]
  },
  {
   "cell_type": "code",
   "execution_count": 8,
   "metadata": {},
   "outputs": [
    {
     "name": "stderr",
     "output_type": "stream",
     "text": [
      "[WDM] - ====== WebDriver manager ======\n",
      "[WDM] - Current google-chrome version is 99.0.4844\n",
      "[WDM] - Get LATEST driver version for 99.0.4844\n",
      "[WDM] - Driver [/Users/simonxu/.wdm/drivers/chromedriver/mac64/99.0.4844.51/chromedriver] found in cache\n"
     ]
    },
    {
     "name": "stdout",
     "output_type": "stream",
     "text": [
      "\n",
      "\n"
     ]
    }
   ],
   "source": [
    "executable_path = {'executable_path': ChromeDriverManager().install()}\n",
    "browser = Browser('chrome', **executable_path, headless=False)"
   ]
  },
  {
   "cell_type": "code",
   "execution_count": 9,
   "metadata": {},
   "outputs": [],
   "source": [
    "tutor_form_url = \"https://docs.google.com/forms/d/e/1FAIpQLSc_q0CSp5Bpn7lfDAdoPCbBTW-OxWQVhC3gG5P9e6iE4FERjw/viewform\"\n",
    "browser.visit(tutor_form_url)"
   ]
  },
  {
   "cell_type": "code",
   "execution_count": 11,
   "metadata": {},
   "outputs": [],
   "source": [
    "html = browser.html\n",
    "soup = BeautifulSoup(html, \"html.parser\")"
   ]
  },
  {
   "cell_type": "code",
   "execution_count": 21,
   "metadata": {},
   "outputs": [
    {
     "data": {
      "text/plain": [
       "<input aria-describedby=\"i2 i3\" aria-labelledby=\"i1\" autocomplete=\"off\" class=\"whsOnd zHQkBf\" data-initial-dir=\"auto\" data-initial-value=\"\" dir=\"auto\" jsname=\"YPqjbf\" required=\"\" tabindex=\"0\" type=\"text\"/>"
      ]
     },
     "execution_count": 21,
     "metadata": {},
     "output_type": "execute_result"
    }
   ],
   "source": [
    "class_code_input = soup.find('input', class_=\"whsOnd\")\n",
    "class_code_input"
   ]
  },
  {
   "cell_type": "code",
   "execution_count": 22,
   "metadata": {},
   "outputs": [
    {
     "ename": "TypeError",
     "evalue": "Object of type WebDriverElement is not JSON serializable",
     "output_type": "error",
     "traceback": [
      "\u001b[0;31m---------------------------------------------------------------------------\u001b[0m",
      "\u001b[0;31mTypeError\u001b[0m                                 Traceback (most recent call last)",
      "\u001b[0;32m/var/folders/p4/bklxjxxj2sq59w13x2tmsz9h0000gn/T/ipykernel_2438/1395199939.py\u001b[0m in \u001b[0;36m<module>\u001b[0;34m\u001b[0m\n\u001b[0;32m----> 1\u001b[0;31m \u001b[0mbrowser\u001b[0m\u001b[0;34m.\u001b[0m\u001b[0mvisit\u001b[0m\u001b[0;34m(\u001b[0m\u001b[0mbrowser\u001b[0m\u001b[0;34m.\u001b[0m\u001b[0mfind_by_tag\u001b[0m\u001b[0;34m(\u001b[0m\u001b[0;34m'input'\u001b[0m\u001b[0;34m)\u001b[0m\u001b[0;34m[\u001b[0m\u001b[0;36m0\u001b[0m\u001b[0;34m]\u001b[0m\u001b[0;34m)\u001b[0m\u001b[0;34m\u001b[0m\u001b[0;34m\u001b[0m\u001b[0m\n\u001b[0m",
      "\u001b[0;32m~/opt/anaconda3/lib/python3.8/site-packages/splinter/driver/webdriver/__init__.py\u001b[0m in \u001b[0;36mvisit\u001b[0;34m(self, url)\u001b[0m\n\u001b[1;32m    285\u001b[0m \u001b[0;34m\u001b[0m\u001b[0m\n\u001b[1;32m    286\u001b[0m     \u001b[0;32mdef\u001b[0m \u001b[0mvisit\u001b[0m\u001b[0;34m(\u001b[0m\u001b[0mself\u001b[0m\u001b[0;34m,\u001b[0m \u001b[0murl\u001b[0m\u001b[0;34m)\u001b[0m\u001b[0;34m:\u001b[0m\u001b[0;34m\u001b[0m\u001b[0;34m\u001b[0m\u001b[0m\n\u001b[0;32m--> 287\u001b[0;31m         \u001b[0mself\u001b[0m\u001b[0;34m.\u001b[0m\u001b[0mdriver\u001b[0m\u001b[0;34m.\u001b[0m\u001b[0mget\u001b[0m\u001b[0;34m(\u001b[0m\u001b[0murl\u001b[0m\u001b[0;34m)\u001b[0m\u001b[0;34m\u001b[0m\u001b[0;34m\u001b[0m\u001b[0m\n\u001b[0m\u001b[1;32m    288\u001b[0m \u001b[0;34m\u001b[0m\u001b[0m\n\u001b[1;32m    289\u001b[0m     \u001b[0;32mdef\u001b[0m \u001b[0mback\u001b[0m\u001b[0;34m(\u001b[0m\u001b[0mself\u001b[0m\u001b[0;34m)\u001b[0m\u001b[0;34m:\u001b[0m\u001b[0;34m\u001b[0m\u001b[0;34m\u001b[0m\u001b[0m\n",
      "\u001b[0;32m~/opt/anaconda3/lib/python3.8/site-packages/selenium/webdriver/remote/webdriver.py\u001b[0m in \u001b[0;36mget\u001b[0;34m(self, url)\u001b[0m\n\u001b[1;32m    331\u001b[0m         \u001b[0mLoads\u001b[0m \u001b[0ma\u001b[0m \u001b[0mweb\u001b[0m \u001b[0mpage\u001b[0m \u001b[0;32min\u001b[0m \u001b[0mthe\u001b[0m \u001b[0mcurrent\u001b[0m \u001b[0mbrowser\u001b[0m \u001b[0msession\u001b[0m\u001b[0;34m.\u001b[0m\u001b[0;34m\u001b[0m\u001b[0;34m\u001b[0m\u001b[0m\n\u001b[1;32m    332\u001b[0m         \"\"\"\n\u001b[0;32m--> 333\u001b[0;31m         \u001b[0mself\u001b[0m\u001b[0;34m.\u001b[0m\u001b[0mexecute\u001b[0m\u001b[0;34m(\u001b[0m\u001b[0mCommand\u001b[0m\u001b[0;34m.\u001b[0m\u001b[0mGET\u001b[0m\u001b[0;34m,\u001b[0m \u001b[0;34m{\u001b[0m\u001b[0;34m'url'\u001b[0m\u001b[0;34m:\u001b[0m \u001b[0murl\u001b[0m\u001b[0;34m}\u001b[0m\u001b[0;34m)\u001b[0m\u001b[0;34m\u001b[0m\u001b[0;34m\u001b[0m\u001b[0m\n\u001b[0m\u001b[1;32m    334\u001b[0m \u001b[0;34m\u001b[0m\u001b[0m\n\u001b[1;32m    335\u001b[0m     \u001b[0;34m@\u001b[0m\u001b[0mproperty\u001b[0m\u001b[0;34m\u001b[0m\u001b[0;34m\u001b[0m\u001b[0m\n",
      "\u001b[0;32m~/opt/anaconda3/lib/python3.8/site-packages/selenium/webdriver/remote/webdriver.py\u001b[0m in \u001b[0;36mexecute\u001b[0;34m(self, driver_command, params)\u001b[0m\n\u001b[1;32m    317\u001b[0m \u001b[0;34m\u001b[0m\u001b[0m\n\u001b[1;32m    318\u001b[0m         \u001b[0mparams\u001b[0m \u001b[0;34m=\u001b[0m \u001b[0mself\u001b[0m\u001b[0;34m.\u001b[0m\u001b[0m_wrap_value\u001b[0m\u001b[0;34m(\u001b[0m\u001b[0mparams\u001b[0m\u001b[0;34m)\u001b[0m\u001b[0;34m\u001b[0m\u001b[0;34m\u001b[0m\u001b[0m\n\u001b[0;32m--> 319\u001b[0;31m         \u001b[0mresponse\u001b[0m \u001b[0;34m=\u001b[0m \u001b[0mself\u001b[0m\u001b[0;34m.\u001b[0m\u001b[0mcommand_executor\u001b[0m\u001b[0;34m.\u001b[0m\u001b[0mexecute\u001b[0m\u001b[0;34m(\u001b[0m\u001b[0mdriver_command\u001b[0m\u001b[0;34m,\u001b[0m \u001b[0mparams\u001b[0m\u001b[0;34m)\u001b[0m\u001b[0;34m\u001b[0m\u001b[0;34m\u001b[0m\u001b[0m\n\u001b[0m\u001b[1;32m    320\u001b[0m         \u001b[0;32mif\u001b[0m \u001b[0mresponse\u001b[0m\u001b[0;34m:\u001b[0m\u001b[0;34m\u001b[0m\u001b[0;34m\u001b[0m\u001b[0m\n\u001b[1;32m    321\u001b[0m             \u001b[0mself\u001b[0m\u001b[0;34m.\u001b[0m\u001b[0merror_handler\u001b[0m\u001b[0;34m.\u001b[0m\u001b[0mcheck_response\u001b[0m\u001b[0;34m(\u001b[0m\u001b[0mresponse\u001b[0m\u001b[0;34m)\u001b[0m\u001b[0;34m\u001b[0m\u001b[0;34m\u001b[0m\u001b[0m\n",
      "\u001b[0;32m~/opt/anaconda3/lib/python3.8/site-packages/selenium/webdriver/remote/remote_connection.py\u001b[0m in \u001b[0;36mexecute\u001b[0;34m(self, command, params)\u001b[0m\n\u001b[1;32m    370\u001b[0m         \u001b[0;32mif\u001b[0m \u001b[0mhasattr\u001b[0m\u001b[0;34m(\u001b[0m\u001b[0mself\u001b[0m\u001b[0;34m,\u001b[0m \u001b[0;34m'w3c'\u001b[0m\u001b[0;34m)\u001b[0m \u001b[0;32mand\u001b[0m \u001b[0mself\u001b[0m\u001b[0;34m.\u001b[0m\u001b[0mw3c\u001b[0m \u001b[0;32mand\u001b[0m \u001b[0misinstance\u001b[0m\u001b[0;34m(\u001b[0m\u001b[0mparams\u001b[0m\u001b[0;34m,\u001b[0m \u001b[0mdict\u001b[0m\u001b[0;34m)\u001b[0m \u001b[0;32mand\u001b[0m \u001b[0;34m'sessionId'\u001b[0m \u001b[0;32min\u001b[0m \u001b[0mparams\u001b[0m\u001b[0;34m:\u001b[0m\u001b[0;34m\u001b[0m\u001b[0;34m\u001b[0m\u001b[0m\n\u001b[1;32m    371\u001b[0m             \u001b[0;32mdel\u001b[0m \u001b[0mparams\u001b[0m\u001b[0;34m[\u001b[0m\u001b[0;34m'sessionId'\u001b[0m\u001b[0;34m]\u001b[0m\u001b[0;34m\u001b[0m\u001b[0;34m\u001b[0m\u001b[0m\n\u001b[0;32m--> 372\u001b[0;31m         \u001b[0mdata\u001b[0m \u001b[0;34m=\u001b[0m \u001b[0mutils\u001b[0m\u001b[0;34m.\u001b[0m\u001b[0mdump_json\u001b[0m\u001b[0;34m(\u001b[0m\u001b[0mparams\u001b[0m\u001b[0;34m)\u001b[0m\u001b[0;34m\u001b[0m\u001b[0;34m\u001b[0m\u001b[0m\n\u001b[0m\u001b[1;32m    373\u001b[0m         \u001b[0murl\u001b[0m \u001b[0;34m=\u001b[0m \u001b[0;34m'%s%s'\u001b[0m \u001b[0;34m%\u001b[0m \u001b[0;34m(\u001b[0m\u001b[0mself\u001b[0m\u001b[0;34m.\u001b[0m\u001b[0m_url\u001b[0m\u001b[0;34m,\u001b[0m \u001b[0mpath\u001b[0m\u001b[0;34m)\u001b[0m\u001b[0;34m\u001b[0m\u001b[0;34m\u001b[0m\u001b[0m\n\u001b[1;32m    374\u001b[0m         \u001b[0;32mreturn\u001b[0m \u001b[0mself\u001b[0m\u001b[0;34m.\u001b[0m\u001b[0m_request\u001b[0m\u001b[0;34m(\u001b[0m\u001b[0mcommand_info\u001b[0m\u001b[0;34m[\u001b[0m\u001b[0;36m0\u001b[0m\u001b[0;34m]\u001b[0m\u001b[0;34m,\u001b[0m \u001b[0murl\u001b[0m\u001b[0;34m,\u001b[0m \u001b[0mbody\u001b[0m\u001b[0;34m=\u001b[0m\u001b[0mdata\u001b[0m\u001b[0;34m)\u001b[0m\u001b[0;34m\u001b[0m\u001b[0;34m\u001b[0m\u001b[0m\n",
      "\u001b[0;32m~/opt/anaconda3/lib/python3.8/site-packages/selenium/webdriver/remote/utils.py\u001b[0m in \u001b[0;36mdump_json\u001b[0;34m(json_struct)\u001b[0m\n\u001b[1;32m     31\u001b[0m \u001b[0;34m\u001b[0m\u001b[0m\n\u001b[1;32m     32\u001b[0m \u001b[0;32mdef\u001b[0m \u001b[0mdump_json\u001b[0m\u001b[0;34m(\u001b[0m\u001b[0mjson_struct\u001b[0m\u001b[0;34m)\u001b[0m\u001b[0;34m:\u001b[0m\u001b[0;34m\u001b[0m\u001b[0;34m\u001b[0m\u001b[0m\n\u001b[0;32m---> 33\u001b[0;31m     \u001b[0;32mreturn\u001b[0m \u001b[0mjson\u001b[0m\u001b[0;34m.\u001b[0m\u001b[0mdumps\u001b[0m\u001b[0;34m(\u001b[0m\u001b[0mjson_struct\u001b[0m\u001b[0;34m)\u001b[0m\u001b[0;34m\u001b[0m\u001b[0;34m\u001b[0m\u001b[0m\n\u001b[0m\u001b[1;32m     34\u001b[0m \u001b[0;34m\u001b[0m\u001b[0m\n\u001b[1;32m     35\u001b[0m \u001b[0;34m\u001b[0m\u001b[0m\n",
      "\u001b[0;32m~/opt/anaconda3/lib/python3.8/json/__init__.py\u001b[0m in \u001b[0;36mdumps\u001b[0;34m(obj, skipkeys, ensure_ascii, check_circular, allow_nan, cls, indent, separators, default, sort_keys, **kw)\u001b[0m\n\u001b[1;32m    229\u001b[0m         \u001b[0mcls\u001b[0m \u001b[0;32mis\u001b[0m \u001b[0;32mNone\u001b[0m \u001b[0;32mand\u001b[0m \u001b[0mindent\u001b[0m \u001b[0;32mis\u001b[0m \u001b[0;32mNone\u001b[0m \u001b[0;32mand\u001b[0m \u001b[0mseparators\u001b[0m \u001b[0;32mis\u001b[0m \u001b[0;32mNone\u001b[0m \u001b[0;32mand\u001b[0m\u001b[0;34m\u001b[0m\u001b[0;34m\u001b[0m\u001b[0m\n\u001b[1;32m    230\u001b[0m         default is None and not sort_keys and not kw):\n\u001b[0;32m--> 231\u001b[0;31m         \u001b[0;32mreturn\u001b[0m \u001b[0m_default_encoder\u001b[0m\u001b[0;34m.\u001b[0m\u001b[0mencode\u001b[0m\u001b[0;34m(\u001b[0m\u001b[0mobj\u001b[0m\u001b[0;34m)\u001b[0m\u001b[0;34m\u001b[0m\u001b[0;34m\u001b[0m\u001b[0m\n\u001b[0m\u001b[1;32m    232\u001b[0m     \u001b[0;32mif\u001b[0m \u001b[0mcls\u001b[0m \u001b[0;32mis\u001b[0m \u001b[0;32mNone\u001b[0m\u001b[0;34m:\u001b[0m\u001b[0;34m\u001b[0m\u001b[0;34m\u001b[0m\u001b[0m\n\u001b[1;32m    233\u001b[0m         \u001b[0mcls\u001b[0m \u001b[0;34m=\u001b[0m \u001b[0mJSONEncoder\u001b[0m\u001b[0;34m\u001b[0m\u001b[0;34m\u001b[0m\u001b[0m\n",
      "\u001b[0;32m~/opt/anaconda3/lib/python3.8/json/encoder.py\u001b[0m in \u001b[0;36mencode\u001b[0;34m(self, o)\u001b[0m\n\u001b[1;32m    197\u001b[0m         \u001b[0;31m# exceptions aren't as detailed.  The list call should be roughly\u001b[0m\u001b[0;34m\u001b[0m\u001b[0;34m\u001b[0m\u001b[0;34m\u001b[0m\u001b[0m\n\u001b[1;32m    198\u001b[0m         \u001b[0;31m# equivalent to the PySequence_Fast that ''.join() would do.\u001b[0m\u001b[0;34m\u001b[0m\u001b[0;34m\u001b[0m\u001b[0;34m\u001b[0m\u001b[0m\n\u001b[0;32m--> 199\u001b[0;31m         \u001b[0mchunks\u001b[0m \u001b[0;34m=\u001b[0m \u001b[0mself\u001b[0m\u001b[0;34m.\u001b[0m\u001b[0miterencode\u001b[0m\u001b[0;34m(\u001b[0m\u001b[0mo\u001b[0m\u001b[0;34m,\u001b[0m \u001b[0m_one_shot\u001b[0m\u001b[0;34m=\u001b[0m\u001b[0;32mTrue\u001b[0m\u001b[0;34m)\u001b[0m\u001b[0;34m\u001b[0m\u001b[0;34m\u001b[0m\u001b[0m\n\u001b[0m\u001b[1;32m    200\u001b[0m         \u001b[0;32mif\u001b[0m \u001b[0;32mnot\u001b[0m \u001b[0misinstance\u001b[0m\u001b[0;34m(\u001b[0m\u001b[0mchunks\u001b[0m\u001b[0;34m,\u001b[0m \u001b[0;34m(\u001b[0m\u001b[0mlist\u001b[0m\u001b[0;34m,\u001b[0m \u001b[0mtuple\u001b[0m\u001b[0;34m)\u001b[0m\u001b[0;34m)\u001b[0m\u001b[0;34m:\u001b[0m\u001b[0;34m\u001b[0m\u001b[0;34m\u001b[0m\u001b[0m\n\u001b[1;32m    201\u001b[0m             \u001b[0mchunks\u001b[0m \u001b[0;34m=\u001b[0m \u001b[0mlist\u001b[0m\u001b[0;34m(\u001b[0m\u001b[0mchunks\u001b[0m\u001b[0;34m)\u001b[0m\u001b[0;34m\u001b[0m\u001b[0;34m\u001b[0m\u001b[0m\n",
      "\u001b[0;32m~/opt/anaconda3/lib/python3.8/json/encoder.py\u001b[0m in \u001b[0;36miterencode\u001b[0;34m(self, o, _one_shot)\u001b[0m\n\u001b[1;32m    255\u001b[0m                 \u001b[0mself\u001b[0m\u001b[0;34m.\u001b[0m\u001b[0mkey_separator\u001b[0m\u001b[0;34m,\u001b[0m \u001b[0mself\u001b[0m\u001b[0;34m.\u001b[0m\u001b[0mitem_separator\u001b[0m\u001b[0;34m,\u001b[0m \u001b[0mself\u001b[0m\u001b[0;34m.\u001b[0m\u001b[0msort_keys\u001b[0m\u001b[0;34m,\u001b[0m\u001b[0;34m\u001b[0m\u001b[0;34m\u001b[0m\u001b[0m\n\u001b[1;32m    256\u001b[0m                 self.skipkeys, _one_shot)\n\u001b[0;32m--> 257\u001b[0;31m         \u001b[0;32mreturn\u001b[0m \u001b[0m_iterencode\u001b[0m\u001b[0;34m(\u001b[0m\u001b[0mo\u001b[0m\u001b[0;34m,\u001b[0m \u001b[0;36m0\u001b[0m\u001b[0;34m)\u001b[0m\u001b[0;34m\u001b[0m\u001b[0;34m\u001b[0m\u001b[0m\n\u001b[0m\u001b[1;32m    258\u001b[0m \u001b[0;34m\u001b[0m\u001b[0m\n\u001b[1;32m    259\u001b[0m def _make_iterencode(markers, _default, _encoder, _indent, _floatstr,\n",
      "\u001b[0;32m~/opt/anaconda3/lib/python3.8/json/encoder.py\u001b[0m in \u001b[0;36mdefault\u001b[0;34m(self, o)\u001b[0m\n\u001b[1;32m    177\u001b[0m \u001b[0;34m\u001b[0m\u001b[0m\n\u001b[1;32m    178\u001b[0m         \"\"\"\n\u001b[0;32m--> 179\u001b[0;31m         raise TypeError(f'Object of type {o.__class__.__name__} '\n\u001b[0m\u001b[1;32m    180\u001b[0m                         f'is not JSON serializable')\n\u001b[1;32m    181\u001b[0m \u001b[0;34m\u001b[0m\u001b[0m\n",
      "\u001b[0;31mTypeError\u001b[0m: Object of type WebDriverElement is not JSON serializable"
     ]
    }
   ],
   "source": [
    "browser.visit(browser.find_by_tag('input')[0])"
   ]
  },
  {
   "cell_type": "code",
   "execution_count": 20,
   "metadata": {},
   "outputs": [
    {
     "name": "stdout",
     "output_type": "stream",
     "text": [
      "1\n"
     ]
    }
   ],
   "source": [
    "print(1)"
   ]
  },
  {
   "cell_type": "code",
   "execution_count": 25,
   "metadata": {},
   "outputs": [
    {
     "data": {
      "text/plain": [
       "'<div class=\"vnFTpb teQAzf ErmvL KHCwJ\"></div><div class=\"teQAzf\"><form action=\"https://docs.google.com/forms/d/e/1FAIpQLSc_q0CSp5Bpn7lfDAdoPCbBTW-OxWQVhC3gG5P9e6iE4FERjw/formResponse\" target=\"_self\" method=\"POST\" id=\"mG61Hd\" jsmodel=\"TOfxwf Q91hve CEkLOc\" data-shuffle-seed=\"5172145864971010379\" data-response=\"%.@.[]]\" data-first-entry=\"0\" data-last-entry=\"4\" data-is-first-page=\"true\"><div jscontroller=\"yUS4Lc\" jsaction=\"rcuQ6b:rcuQ6b;UxRBlf:rcuQ6b;\"><div jsname=\"o6bZLc\"><input type=\"hidden\" name=\"entry.1626809215\" value=\"\"><input type=\"hidden\" name=\"entry.1262798942\" value=\"\"><input type=\"hidden\" name=\"entry.1509111758\" value=\"\"></div></div><div class=\"RH5hzf RLS9Fe\"><div class=\"lrKTG\"><div class=\"Dq4amc\"><div class=\"m7w29c O8VmIc tIvQIf\"><noscript><div class=\"HB1eCd-X3SwIb-haAclf\"><div class=\"HB1eCd-X3SwIb-i8xkGf\"><div class=\"tk3N6e-cXJiPb tk3N6e-cXJiPb-TSZdd tk3N6e-cXJiPb-GMvhG\">JavaScript isn\\'t enabled in your browser, so this file can\\'t be opened. Enable and reload.</div></div><br></div></noscript><div class=\"JH79cc RVEQke b33AEc\"></div><div class=\"N0gd6\"><div class=\"ahS2Le\"><div class=\"F9yp7e ikZYwf G4EHhc\" dir=\"auto\" role=\"heading\" aria-level=\"1\">Tutor\\'s Evaluation of Session</div></div><div class=\"cBGGJ\" dir=\"auto\">Bootcamp post-tutoring session questions and documentation.  To be filled out by the tutor after each session.<br></div><div jsname=\"F0H8Yc\" class=\"liS6Hc\"></div></div><div class=\"zAVwcb\"></div><div class=\"DqBBlb\"><div class=\"Oh1Vtf\"><div class=\"kesdnc\" id=\"SMMuxb\"><a jscontroller=\"A2m8uc\" jsaction=\"rcuQ6b:npT2md; click:mAWTmb;\" href=\"https://accounts.google.com/Login?continue=https%3A%2F%2Fdocs.google.com%2Fforms%2Fd%2Fe%2F1FAIpQLSc_q0CSp5Bpn7lfDAdoPCbBTW-OxWQVhC3gG5P9e6iE4FERjw%2Fviewform%3Ffbzx%3D5172145864971010379\" aria-describedby=\"SMMuxb\">Sign in to Google</a> to save your progress. <a class=\"TYUeKb\" jscontroller=\"rmdjlf\" jsaction=\"rcuQ6b:npT2md; click:xdDXgc;\" role=\"button\" tabindex=\"0\">Learn more</a></div></div><div class=\"md0UAd\" aria-hidden=\"true\" dir=\"auto\">* Required</div></div></div></div><div class=\"o3Dpx\" role=\"list\"><div class=\"Qr7Oae\" role=\"listitem\"><div jsmodel=\"CP1oW\" data-params=\"%.@.[1394295207,&quot;Student\\'s Class Code (Provide Entire Code):&quot;,null,0,[[1626809215,[],true,[],[],null,null,null,null,null,[null,[]]]],null,null,null,[]],&quot;i1&quot;,&quot;i2&quot;,&quot;i3&quot;,false]\" class=\"XkWAb\"><div jscontroller=\"sWGJ4b\" jsaction=\"EEvAHc:yfX9oc;\" jsname=\"WsjYwc\" class=\"geS5n\"><div class=\"z12JJ\"><div class=\"M4DNQ\"><div id=\"i1\" class=\"HoXoMd D1wxyf G4EHhc\" role=\"heading\" aria-level=\"3\" aria-describedby=\"i4\">Student\\'s Class Code (Provide Entire Code):<span class=\"vnumgf\" id=\"i4\" aria-label=\"Required question\"> *</span></div><div class=\"gubaDc\" id=\"i2\"></div></div></div><div jscontroller=\"oCiKKc\" jsaction=\"rcuQ6b:vZc4S;O22p3e:zjh6rb;b2trFe:eVidQc;sPvj8e:d3sQLd;AHmuwe:h06R8;\" class=\"AgroKb\"><div class=\"rFrNMe k3kHxc RdH0ib yqQS1 zKHdkd\" jscontroller=\"pxq3x\" jsaction=\"clickonly:KjsqPd; focus:Jt1EX; blur:fpfTEe; input:Lg5SV\" jsshadow=\"\" jsname=\"YPqjbf\"><div class=\"aCsJod oJeWuf\"><div class=\"aXBtI Wic03c\"><div class=\"Xb9hP\"><input type=\"text\" class=\"whsOnd zHQkBf\" jsname=\"YPqjbf\" autocomplete=\"off\" tabindex=\"0\" aria-labelledby=\"i1\" aria-describedby=\"i2 i3\" required=\"\" dir=\"auto\" data-initial-dir=\"auto\" data-initial-value=\"\"><div jsname=\"LwH6nd\" class=\"ndJi5d snByac\" aria-hidden=\"true\">Your answer</div></div><div class=\"i9lrp mIZh1c\"></div><div jsname=\"XmnwAc\" class=\"OabDMe cXrdqd\"></div></div></div><div class=\"LXRPh\"><div jsname=\"ty6ygf\" class=\"ovnfwe Is7Fhb\"></div></div></div></div><div jsname=\"Rfh2Tc\" class=\"SL4Sz\" id=\"i3\" role=\"alert\"></div></div></div></div><div class=\"Qr7Oae\" role=\"listitem\"><div jsmodel=\"CP1oW\" data-params=\"%.@.[655309492,&quot;Student Name (last, first):&quot;,null,0,[[1262798942,[],true,[],[],null,null,null,null,null,[null,[]]]],null,null,null,[]],&quot;i5&quot;,&quot;i6&quot;,&quot;i7&quot;,false]\" class=\"XkWAb\"><div jscontroller=\"sWGJ4b\" jsaction=\"EEvAHc:yfX9oc;\" jsname=\"WsjYwc\" class=\"geS5n\"><div class=\"z12JJ\"><div class=\"M4DNQ\"><div id=\"i5\" class=\"HoXoMd D1wxyf G4EHhc\" role=\"heading\" aria-level=\"3\" aria-describedby=\"i8\">Student Name (last, first):<span class=\"vnumgf\" id=\"i8\" aria-label=\"Required question\"> *</span></div><div class=\"gubaDc\" id=\"i6\"></div></div></div><div jscontroller=\"oCiKKc\" jsaction=\"rcuQ6b:vZc4S;O22p3e:zjh6rb;b2trFe:eVidQc;sPvj8e:d3sQLd;AHmuwe:h06R8;\" class=\"AgroKb\"><div class=\"rFrNMe k3kHxc RdH0ib yqQS1 zKHdkd\" jscontroller=\"pxq3x\" jsaction=\"clickonly:KjsqPd; focus:Jt1EX; blur:fpfTEe; input:Lg5SV\" jsshadow=\"\" jsname=\"YPqjbf\"><div class=\"aCsJod oJeWuf\"><div class=\"aXBtI Wic03c\"><div class=\"Xb9hP\"><input type=\"text\" class=\"whsOnd zHQkBf\" jsname=\"YPqjbf\" autocomplete=\"off\" tabindex=\"0\" aria-labelledby=\"i5\" aria-describedby=\"i6 i7\" required=\"\" dir=\"auto\" data-initial-dir=\"auto\" data-initial-value=\"\"><div jsname=\"LwH6nd\" class=\"ndJi5d snByac\" aria-hidden=\"true\">Your answer</div></div><div class=\"i9lrp mIZh1c\"></div><div jsname=\"XmnwAc\" class=\"OabDMe cXrdqd\"></div></div></div><div class=\"LXRPh\"><div jsname=\"ty6ygf\" class=\"ovnfwe Is7Fhb\"></div></div></div></div><div jsname=\"Rfh2Tc\" class=\"SL4Sz\" id=\"i7\" role=\"alert\"></div></div></div></div><div class=\"Qr7Oae\" role=\"listitem\"><div jsmodel=\"CP1oW\" data-params=\"%.@.[601657307,&quot;Student Email:&quot;,null,0,[[1509111758,[],true,[],[],null,null,null,null,null,[null,[]]]],null,null,null,[]],&quot;i9&quot;,&quot;i10&quot;,&quot;i11&quot;,false]\" class=\"XkWAb\"><div jscontroller=\"sWGJ4b\" jsaction=\"EEvAHc:yfX9oc;\" jsname=\"WsjYwc\" class=\"geS5n\"><div class=\"z12JJ\"><div class=\"M4DNQ\"><div id=\"i9\" class=\"HoXoMd D1wxyf G4EHhc\" role=\"heading\" aria-level=\"3\" aria-describedby=\"i12\">Student Email:<span class=\"vnumgf\" id=\"i12\" aria-label=\"Required question\"> *</span></div><div class=\"gubaDc\" id=\"i10\"></div></div></div><div jscontroller=\"oCiKKc\" jsaction=\"rcuQ6b:vZc4S;O22p3e:zjh6rb;b2trFe:eVidQc;sPvj8e:d3sQLd;AHmuwe:h06R8;\" class=\"AgroKb\"><div class=\"rFrNMe k3kHxc RdH0ib yqQS1 zKHdkd\" jscontroller=\"pxq3x\" jsaction=\"clickonly:KjsqPd; focus:Jt1EX; blur:fpfTEe; input:Lg5SV\" jsshadow=\"\" jsname=\"YPqjbf\"><div class=\"aCsJod oJeWuf\"><div class=\"aXBtI Wic03c\"><div class=\"Xb9hP\"><input type=\"text\" class=\"whsOnd zHQkBf\" jsname=\"YPqjbf\" autocomplete=\"off\" tabindex=\"0\" aria-labelledby=\"i9\" aria-describedby=\"i10 i11\" required=\"\" dir=\"auto\" data-initial-dir=\"auto\" data-initial-value=\"\"><div jsname=\"LwH6nd\" class=\"ndJi5d snByac\" aria-hidden=\"true\">Your answer</div></div><div class=\"i9lrp mIZh1c\"></div><div jsname=\"XmnwAc\" class=\"OabDMe cXrdqd\"></div></div></div><div class=\"LXRPh\"><div jsname=\"ty6ygf\" class=\"ovnfwe Is7Fhb\"></div></div></div></div><div jsname=\"Rfh2Tc\" class=\"SL4Sz\" id=\"i11\" role=\"alert\"></div></div></div></div><div class=\"Qr7Oae\" role=\"listitem\"><div jsmodel=\"CP1oW\" data-params=\"%.@.[1487292019,&quot;Was this a Paid Session? - FSF PILOT ONLY&quot;,null,2,[[1450620354,[[&quot;Yes&quot;,null,null,null,false],[&quot;No&quot;,null,null,null,false]],false,[],[],null,null,null,false,null,[null,[]]]],null,null,null,[]],&quot;i13&quot;,&quot;i14&quot;,&quot;i15&quot;,false]\" class=\"XkWAb\"><div jscontroller=\"sWGJ4b\" jsaction=\"EEvAHc:yfX9oc;\" jsname=\"WsjYwc\" class=\"geS5n\"><div class=\"z12JJ\"><div class=\"M4DNQ\"><div id=\"i13\" class=\"HoXoMd D1wxyf G4EHhc\" role=\"heading\" aria-level=\"3\">Was this a Paid Session? - FSF PILOT ONLY</div><div class=\"gubaDc\" id=\"i14\"></div></div></div><div jscontroller=\"UmOCme\" jsaction=\"rcuQ6b:vZc4S;O22p3e:zjh6rb;b2trFe:eVidQc;JIbuQc:RgMCxe(YlCLKb);sPvj8e:d3sQLd;TYy3Ne:RgMCxe;\" class=\"oyXaNc\" jsname=\"GCYh9b\"><input type=\"hidden\" name=\"entry.1450620354_sentinel\" jsname=\"DTMEae\"><div jscontroller=\"eFy6Rc\" jsaction=\"sPvj8e:Gh295d\" jsname=\"cnAzRb\"><div class=\"lLfZXe fnxRtf cNDBpf\" jscontroller=\"wPRNsd\" jsshadow=\"\" jsaction=\"keydown: I481le;JIbuQc:JIbuQc;rcuQ6b:rcuQ6b\" jsname=\"wCJL8\" aria-labelledby=\"i13\" aria-describedby=\"i14 i15\" role=\"radiogroup\"><span jsslot=\"\" role=\"presentation\" jsname=\"bN97Pc\" class=\"H2Gmcc tyNBNd\"><div class=\"SG0AAe\"><div class=\"nWQGrd zwllIb\"><label for=\"i17\" class=\"docssharedWizToggleLabeledContainer ajBQVb\"><div class=\"bzfPab wFGF8\"><div class=\"d7L4fc bJNwt  FXLARc aomaEc ECvBRb\"><div id=\"i17\" class=\"Od2TWd hYsg7c\" jscontroller=\"D8e5bc\" jsaction=\"keydown:I481le;dyRcpb:dyRcpb;click:cOuCgd; mousedown:UX7yZ; mouseup:lbsD7e; mouseenter:tfO1Yc; mouseleave:JywGue; focus:AHmuwe; blur:O22p3e; contextmenu:mg9Pef;touchstart:p6p2H; touchmove:FwuNnf; touchend:yfqBxc(preventMouseEvents=true|preventDefault=true); touchcancel:JMtRjd;\" jsshadow=\"\" aria-label=\"Yes\" data-value=\"Yes\" role=\"radio\" aria-checked=\"false\" aria-posinset=\"1\" aria-setsize=\"2\" tabindex=\"0\"><div class=\"x0k1lc MbhUzd\"></div><div class=\"uyywbd\"></div><div class=\"vd3tt\"><div class=\"AB7Lab Id5V1\"><div class=\"rseUEf nQOrEb\"></div></div></div></div></div><div class=\"YEVVod\"><div class=\"ulDsOb\"><span dir=\"auto\" class=\"aDTYNe snByac OvPDhc\">Yes</span></div></div></div></label></div><div class=\"nWQGrd zwllIb\"><label for=\"i20\" class=\"docssharedWizToggleLabeledContainer ajBQVb\"><div class=\"bzfPab wFGF8\"><div class=\"d7L4fc bJNwt  FXLARc aomaEc ECvBRb\"><div id=\"i20\" class=\"Od2TWd hYsg7c\" jscontroller=\"D8e5bc\" jsaction=\"keydown:I481le;dyRcpb:dyRcpb;click:cOuCgd; mousedown:UX7yZ; mouseup:lbsD7e; mouseenter:tfO1Yc; mouseleave:JywGue; focus:AHmuwe; blur:O22p3e; contextmenu:mg9Pef;touchstart:p6p2H; touchmove:FwuNnf; touchend:yfqBxc(preventMouseEvents=true|preventDefault=true); touchcancel:JMtRjd;\" jsshadow=\"\" aria-label=\"No\" data-value=\"No\" role=\"radio\" aria-checked=\"false\" aria-posinset=\"2\" aria-setsize=\"2\" tabindex=\"0\"><div class=\"x0k1lc MbhUzd\"></div><div class=\"uyywbd\"></div><div class=\"vd3tt\"><div class=\"AB7Lab Id5V1\"><div class=\"rseUEf nQOrEb\"></div></div></div></div></div><div class=\"YEVVod\"><div class=\"ulDsOb\"><span dir=\"auto\" class=\"aDTYNe snByac OvPDhc\">No</span></div></div></div></label></div></div></span></div></div><div class=\"Jwjdfe\"><div class=\"dMALK bQXwDc\" jsname=\"YlCLKb\"><div role=\"button\" class=\"uArJ5e UQuaGc kCyAyd\" jscontroller=\"VXdfxd\" jsaction=\"click:cOuCgd; mousedown:UX7yZ; mouseup:lbsD7e; mouseenter:tfO1Yc; mouseleave:JywGue;touchstart:p6p2H; touchmove:FwuNnf; touchend:yfqBxc(preventMouseEvents=true|preventDefault=true); touchcancel:JMtRjd;focus:AHmuwe; blur:O22p3e; contextmenu:mg9Pef;\" jsshadow=\"\" tabindex=\"0\"><div class=\"Fvio9d MbhUzd\" jsname=\"ksKsZd\"></div><div class=\"e19J0b CeoRYc\"></div><span jsslot=\"\" class=\"l4V7wb Fxmcue\"><span class=\"NPEfkd RveJvd snByac\">Clear selection</span></span></div></div></div></div><div jsname=\"Rfh2Tc\" class=\"SL4Sz\" id=\"i15\" role=\"alert\"></div></div></div></div></div><div class=\"ThHDze\" jscontroller=\"lSvzH\" jsaction=\"rcuQ6b:npT2md;JIbuQc:qV61Ff(X5DuWc),Gl574d(QR6bsb),V3upec(GeGHKb),HiUbje(M2UYVd),NPBnCf(OCpkoe); keydown:duASZc\" data-shuffle-seed=\"5172145864971010379\" data-should-execute-invisible-captcha-challenge=\"false\" data-is-receipt-checked=\"false\"><div class=\"DE3NNc CekdCb\"><div class=\"lRwqcd\"><div role=\"button\" class=\"uArJ5e UQuaGc YhQJj zo8FOc IT3Lge\" jscontroller=\"VXdfxd\" jsaction=\"click:cOuCgd; mousedown:UX7yZ; mouseup:lbsD7e; mouseenter:tfO1Yc; mouseleave:JywGue;touchstart:p6p2H; touchmove:FwuNnf; touchend:yfqBxc(preventMouseEvents=true|preventDefault=true); touchcancel:JMtRjd;focus:AHmuwe; blur:O22p3e; contextmenu:mg9Pef;\" jsshadow=\"\" jsname=\"OCpkoe\" tabindex=\"0\"><div class=\"Fvio9d MbhUzd\" jsname=\"ksKsZd\"></div><div class=\"e19J0b CeoRYc\"></div><span jsslot=\"\" class=\"l4V7wb Fxmcue\"><span class=\"NPEfkd RveJvd snByac\">Next</span></span></div></div><div class=\"nYdzXd\"><div role=\"button\" class=\"uArJ5e UQuaGc kCyAyd l3F1ye TFBnVe\" jscontroller=\"VXdfxd\" jsaction=\"click:cOuCgd; mousedown:UX7yZ; mouseup:lbsD7e; mouseenter:tfO1Yc; mouseleave:JywGue;touchstart:p6p2H; touchmove:FwuNnf; touchend:yfqBxc(preventMouseEvents=true|preventDefault=true); touchcancel:JMtRjd;focus:AHmuwe; blur:O22p3e; contextmenu:mg9Pef;\" jsshadow=\"\" jsname=\"X5DuWc\" tabindex=\"0\"><div class=\"Fvio9d MbhUzd\" jsname=\"ksKsZd\"></div><div class=\"e19J0b CeoRYc\"></div><span jsslot=\"\" class=\"l4V7wb Fxmcue\"><span class=\"NPEfkd RveJvd snByac\">Clear form</span></span></div></div></div><div class=\"T2dutf\">Never submit passwords through Google Forms.</div></div><input type=\"hidden\" name=\"fvv\" value=\"1\"><input type=\"hidden\" name=\"partialResponse\" value=\"[null,null,&quot;5172145864971010379&quot;]\"><input type=\"hidden\" name=\"pageHistory\" value=\"0\"><input type=\"hidden\" name=\"fbzx\" value=\"5172145864971010379\"></div></div></form><div><div class=\"v1CNvb sId0Ce\">This form was created inside of 2U. <a href=\"https://docs.google.com/forms/d/e/1FAIpQLSc_q0CSp5Bpn7lfDAdoPCbBTW-OxWQVhC3gG5P9e6iE4FERjw/reportabuse?source=https://docs.google.com/forms/d/e/1FAIpQLSc_q0CSp5Bpn7lfDAdoPCbBTW-OxWQVhC3gG5P9e6iE4FERjw/viewform\" target=\"_blank\">Report Abuse</a></div><div class=\"I3zNcc yF4pU\"><a dir=\"auto\" href=\"//www.google.com/forms/about/?utm_source=product&amp;utm_medium=forms_logo&amp;utm_campaign=forms\"><img src=\"https://www.gstatic.com/images/branding/googlelogo/svg/googlelogo_dark_clr_74x24px.svg\" alt=\"Google\" height=\"24px\" width=\"74px\">&nbsp;<span class=\"sUXvCd\">Forms</span></a></div></div></div><div jscontroller=\"KFVhZe\" jsaction=\"rcuQ6b:npT2md;JIbuQc:feqbab;\" class=\"ZQKQlb\"><div role=\"button\" class=\"U26fgb mUbCce fKz7Od M9Bg4d\" jscontroller=\"VXdfxd\" jsaction=\"click:cOuCgd; mousedown:UX7yZ; mouseup:lbsD7e; mouseenter:tfO1Yc; mouseleave:JywGue; focus:AHmuwe; blur:O22p3e; contextmenu:mg9Pef;touchstart:p6p2H; touchmove:FwuNnf; touchend:yfqBxc(preventMouseEvents=true|preventDefault=true); touchcancel:JMtRjd;\" jsshadow=\"\" jsname=\"hlkvRb\" aria-label=\"Report a problem to Google\" aria-disabled=\"false\" tabindex=\"0\" data-tooltip=\"Report a problem to Google\" data-tooltip-position=\"right\" data-tooltip-vertical-offset=\"1\" data-tooltip-horizontal-offset=\"0\"><div class=\"VTBa7b MbhUzd\" jsname=\"ksKsZd\"></div><span jsslot=\"\" class=\"xjKiLb\"><span class=\"Ce1Y1c\" style=\"top: -12px\"><div class=\"foqfDc\"><div class=\"Y0xAIe BNL9Bd NpcyEe-n5T17d-Bz112c-N7Eqid-BvMwwf\" aria-hidden=\"true\">&nbsp;</div><div class=\"Y0xAIe ivmiLb NpcyEe-n5T17d-Bz112c-N7Eqid-AhqUyc\" aria-hidden=\"true\">&nbsp;</div></div></span></span></div></div>'"
      ]
     },
     "execution_count": 25,
     "metadata": {},
     "output_type": "execute_result"
    }
   ],
   "source": [
    "browser.find_by_tag(\"div\").html"
   ]
  },
  {
   "cell_type": "code",
   "execution_count": null,
   "metadata": {},
   "outputs": [],
   "source": []
  }
 ],
 "metadata": {
  "interpreter": {
   "hash": "5edc29c2ed010d6458d71a83433b383a96a8cbd3efe8531bc90c4b8a5b8bcec9"
  },
  "kernelspec": {
   "display_name": "Python 3.8.2 64-bit",
   "language": "python",
   "name": "python3"
  },
  "language_info": {
   "codemirror_mode": {
    "name": "ipython",
    "version": 3
   },
   "file_extension": ".py",
   "mimetype": "text/x-python",
   "name": "python",
   "nbconvert_exporter": "python",
   "pygments_lexer": "ipython3",
   "version": "3.8.3"
  },
  "orig_nbformat": 4
 },
 "nbformat": 4,
 "nbformat_minor": 2
}
